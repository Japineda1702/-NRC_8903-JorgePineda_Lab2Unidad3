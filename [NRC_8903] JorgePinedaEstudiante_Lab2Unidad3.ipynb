{
 "cells": [
  {
   "cell_type": "code",
   "execution_count": 6,
   "id": "7e6d2da6",
   "metadata": {},
   "outputs": [],
   "source": [
    "#Importacion de las librerias\n",
    "import pandas as pd\n",
    "import sqlalchemy\n",
    "from sqlalchemy import create_engine\n",
    "from sqlalchemy import MetaData\n",
    "from datetime import datetime\n",
    "import psycopg2\n",
    "import pyodbc"
   ]
  },
  {
   "cell_type": "code",
   "execution_count": 62,
   "id": "aabea896",
   "metadata": {},
   "outputs": [],
   "source": [
    "#Creacion de los data frame de la base de datos chinook\n",
    "engine = create_engine('sqlite:///chinook.db')\n",
    "df_customers = pd.read_sql_query(\"\"\"SELECT FirstName, LastName, Phone, Fax, Email FROM customers; \"\"\", con=engine.connect())\n",
    "df_artists = pd.read_sql_query(\"\"\"SELECT Name FROM artists;\"\"\", con=engine.connect())\n",
    "df_invoice_items = pd.read_sql_query(\"\"\"SELECT UnitPrice, Quantity FROM invoice_items;\"\"\", con=engine.connect())\n",
    "df_location = pd.read_sql_query(\"\"\"SELECT BillingAddress as Address, BillingCity as City, BillingState as State, BillingCountry as Country,BillingPostalCode as PostalCode from invoices;\"\"\", con=engine.connect())\n",
    "df_employees = pd.read_sql_query(\"\"\"SELECT FirstName, LastName, Title, BirthDate, HireDate, Address, City, State, Country, PostalCode, Phone, Fax, Email From employees;\"\"\", con=engine.connect())\n",
    "df_albums = pd.read_sql_query(\"\"\"SELECT Title FROM albums;\"\"\", con=engine.connect()) \n",
    "df_tracks = pd.read_sql_query(\"\"\"SELECT t.Name, mt.Name AS MediaType, g.Name AS Genre, t.Composer, t.Milliseconds, t.Bytes, t.UnitPrice \n",
    "       FROM tracks t\n",
    "       INNER JOIN\n",
    "       [genres] g ON t.GenreId = g.GenreId\n",
    "       INNER JOIN\n",
    "       media_types mt ON t.MediaTypeId = mt.MediaTypeId \"\"\", con=engine.connect()) \n",
    "df_fs=pd.read_sql_query(\"\"\"SELECT invoice_items.InvoiceLineId as InvoicesID, customers.CustomerId AS CustomerID, employees.EmployeeId AS EmployeeID, dim_time.timeID AS TimeID,\n",
    "invoices.InvoiceId as LocationID, tracks.TrackId AS TrackId, artists.ArtistId AS ArtistId, albums.AlbumId AS AlbumId, invoices.Total AS Total\n",
    "FROM invoices INNER JOIN customers\n",
    "ON invoices.CustomerId= customers.CustomerId\n",
    "INNER JOIN invoice_items\n",
    "ON invoice_items.InvoiceId= invoices.InvoiceId\n",
    "INNER JOIN tracks\n",
    "ON tracks.TrackId=  invoice_items.TrackId\n",
    "INNER JOIN albums\n",
    "ON tracks.AlbumId= albums.AlbumId\n",
    "INNER JOIN artists \n",
    "ON albums.ArtistId= artists.ArtistId \n",
    "INNER JOIN Dim_Time\n",
    "ON invoices.InvoiceDate= substr(dim_time.date,0,20)\n",
    "INNER JOIN employees\n",
    "ON employees.EmployeeId= customers.SupportRepId;\"\"\", con=engine.connect())"
   ]
  },
  {
   "cell_type": "code",
   "execution_count": 75,
   "id": "862d2604",
   "metadata": {},
   "outputs": [],
   "source": [
    "#Limpieza de los datos\n",
    "df_location.fillna(method=\"bfill\", inplace = True)\n",
    "df_employees.fillna(method=\"bfill\", inplace = True)\n",
    "df_customers.fillna(method=\"ffill\", inplace = True)\n",
    "df_tracks.fillna(method=\"bfill\", inplace = True)"
   ]
  },
  {
   "cell_type": "code",
   "execution_count": 42,
   "id": "120709e8",
   "metadata": {},
   "outputs": [
    {
     "name": "stderr",
     "output_type": "stream",
     "text": [
      "C:\\Users\\pined\\AppData\\Local\\Temp/ipykernel_9356/2191331294.py:9: FutureWarning: Series.dt.weekofyear and Series.dt.week have been deprecated.  Please use Series.dt.isocalendar().week instead.\n",
      "  df_date['semana'] = df_date.date.dt.weekofyear\n"
     ]
    }
   ],
   "source": [
    "#Creacion del data frame de fecha\n",
    "fecha_I='2009-01-01'\n",
    "fecha_F='2030-12-31'\n",
    "df_date = pd.DataFrame({'date': pd.date_range(fecha_I, fecha_F)})\n",
    "df_date['año'] = df_date.date.dt.year\n",
    "df_date['mes'] = df_date.date.dt.month\n",
    "df_date['dia'] = df_date.date.dt.day\n",
    "df_date['nombre_dia'] = df_date.date.dt.day_name()\n",
    "df_date['dia_semana'] = df_date.date.dt.dayofweek\n",
    "df_date['semana'] = df_date.date.dt.weekofyear\n",
    "df_date['trimestre'] = df_date.date.dt.quarter\n",
    "df_date = dfdate[['date', 'año', 'mes', 'dia', 'nombre_dia', 'dia_semana', 'semana', 'trimestre']]\n",
    "df_date.to_sql(name='Dim_Time', con=engine.connect(), if_exists='append',index=False)"
   ]
  },
  {
   "cell_type": "code",
   "execution_count": 76,
   "id": "1db7f40b",
   "metadata": {},
   "outputs": [],
   "source": [
    "#Conexion con SQL\n",
    "conn = sqlalchemy.create_engine('mssql+pyodbc://localhost/DW_Sales_Music?driver=SQL+Server+Native+Client+11.0')"
   ]
  },
  {
   "cell_type": "code",
   "execution_count": 88,
   "id": "0e42131e",
   "metadata": {},
   "outputs": [],
   "source": [
    "#Carga de los datos en SQL\n",
    "df_albums.to_sql(name='Dim_Album', con=conn, if_exists='append',index=False)\n",
    "df_artists.to_sql(name='Dim_Artist', con=conn, if_exists='append',index=False)\n",
    "df_customers.to_sql(name='Dim_Customer', con=conn, if_exists='append',index=False)  \n",
    "df_invoice_items.to_sql(name='Dim_Invoice_Item', con=conn, if_exists='append',index=False)\n",
    "df_location.to_sql(name='Dim_Location', con=conn, if_exists='append',index=False)\n",
    "df_date.to_sql(name='Dim_Time', con=conn, if_exists='append',index=False)\n",
    "df_tracks.to_sql(name='Dim_Track', con=conn, if_exists='append',index=False)\n",
    "df_employees.to_sql(name='Dim_Employee', con=conn, if_exists='append',index=False)\n",
    "df_fs.to_sql(name='Fact_Sales', con=conn, if_exists='append',index=False)"
   ]
  },
  {
   "cell_type": "code",
   "execution_count": 90,
   "id": "90bcb826",
   "metadata": {},
   "outputs": [],
   "source": [
    "\n"
   ]
  },
  {
   "cell_type": "code",
   "execution_count": 83,
   "id": "50861727",
   "metadata": {},
   "outputs": [],
   "source": []
  },
  {
   "cell_type": "code",
   "execution_count": 72,
   "id": "36fffef8",
   "metadata": {
    "scrolled": true
   },
   "outputs": [],
   "source": []
  },
  {
   "cell_type": "code",
   "execution_count": null,
   "id": "727b0b85",
   "metadata": {},
   "outputs": [],
   "source": []
  },
  {
   "cell_type": "code",
   "execution_count": null,
   "id": "b1b128f3",
   "metadata": {},
   "outputs": [],
   "source": []
  }
 ],
 "metadata": {
  "kernelspec": {
   "display_name": "Python 3 (ipykernel)",
   "language": "python",
   "name": "python3"
  },
  "language_info": {
   "codemirror_mode": {
    "name": "ipython",
    "version": 3
   },
   "file_extension": ".py",
   "mimetype": "text/x-python",
   "name": "python",
   "nbconvert_exporter": "python",
   "pygments_lexer": "ipython3",
   "version": "3.9.7"
  }
 },
 "nbformat": 4,
 "nbformat_minor": 5
}
